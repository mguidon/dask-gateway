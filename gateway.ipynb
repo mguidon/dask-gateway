{
 "cells": [
  {
   "cell_type": "code",
   "execution_count": 37,
   "id": "f2181aab",
   "metadata": {},
   "outputs": [],
   "source": [
    "from dask_gateway import Gateway, BasicAuth\n",
    "auth = BasicAuth(username=None, password=\"asdf\")\n",
    "gateway = Gateway(address=\"http://172.16.8.64:8000\", auth=auth)"
   ]
  },
  {
   "cell_type": "code",
   "execution_count": 38,
   "id": "2035624d",
   "metadata": {},
   "outputs": [
    {
     "name": "stderr",
     "output_type": "stream",
     "text": [
      "distributed.client - ERROR - Exception raised while shutting down cluster ffb179b9ffe84b2b8cea7707209dab1c\n",
      "Traceback (most recent call last):\n",
      "  File \"/home/guidon/devel/src/mguidon/dask-gateway/.venv/lib/python3.8/site-packages/aiohttp/connector.py\", line 969, in _wrap_create_connection\n",
      "  File \"/home/guidon/.pyenv/versions/3.8.10/lib/python3.8/asyncio/base_events.py\", line 1025, in create_connection\n",
      "    raise exceptions[0]\n",
      "  File \"/home/guidon/.pyenv/versions/3.8.10/lib/python3.8/asyncio/base_events.py\", line 1010, in create_connection\n",
      "    sock = await self._connect_sock(\n",
      "  File \"/home/guidon/.pyenv/versions/3.8.10/lib/python3.8/asyncio/base_events.py\", line 924, in _connect_sock\n",
      "    await self.sock_connect(sock, address)\n",
      "  File \"/home/guidon/.pyenv/versions/3.8.10/lib/python3.8/asyncio/selector_events.py\", line 496, in sock_connect\n",
      "    return await fut\n",
      "  File \"/home/guidon/.pyenv/versions/3.8.10/lib/python3.8/asyncio/selector_events.py\", line 528, in _sock_connect_cb\n",
      "    raise OSError(err, f'Connect call failed {address}')\n",
      "ConnectionRefusedError: [Errno 111] Connect call failed ('172.16.8.64', 8000)\n",
      "\n",
      "The above exception was the direct cause of the following exception:\n",
      "\n",
      "Traceback (most recent call last):\n",
      "  File \"/home/guidon/devel/src/mguidon/dask-gateway/.venv/lib/python3.8/site-packages/dask_gateway/client.py\", line 992, in _stop_internal\n",
      "  File \"/home/guidon/devel/src/mguidon/dask-gateway/.venv/lib/python3.8/site-packages/dask_gateway/client.py\", line 653, in _stop_cluster\n",
      "  File \"/home/guidon/devel/src/mguidon/dask-gateway/.venv/lib/python3.8/site-packages/dask_gateway/client.py\", line 396, in _request\n",
      "  File \"/home/guidon/devel/src/mguidon/dask-gateway/.venv/lib/python3.8/site-packages/aiohttp/client.py\", line 520, in _request\n",
      "  File \"/home/guidon/devel/src/mguidon/dask-gateway/.venv/lib/python3.8/site-packages/aiohttp/connector.py\", line 535, in connect\n",
      "  File \"/home/guidon/devel/src/mguidon/dask-gateway/.venv/lib/python3.8/site-packages/aiohttp/connector.py\", line 892, in _create_connection\n",
      "  File \"/home/guidon/devel/src/mguidon/dask-gateway/.venv/lib/python3.8/site-packages/aiohttp/connector.py\", line 1051, in _create_direct_connection\n",
      "  File \"/home/guidon/devel/src/mguidon/dask-gateway/.venv/lib/python3.8/site-packages/aiohttp/connector.py\", line 1020, in _create_direct_connection\n",
      "  File \"/home/guidon/devel/src/mguidon/dask-gateway/.venv/lib/python3.8/site-packages/aiohttp/connector.py\", line 975, in _wrap_create_connection\n",
      "aiohttp.client_exceptions.ClientConnectorError: Cannot connect to host 172.16.8.64:8000 ssl:default [Connect call failed ('172.16.8.64', 8000)]\n"
     ]
    },
    {
     "ename": "ServerDisconnectedError",
     "evalue": "Server disconnected",
     "output_type": "error",
     "traceback": [
      "\u001b[0;31m---------------------------------------------------------------------------\u001b[0m",
      "\u001b[0;31mServerDisconnectedError\u001b[0m                   Traceback (most recent call last)",
      "\u001b[0;32m/tmp/ipykernel_28971/2755788882.py\u001b[0m in \u001b[0;36m<module>\u001b[0;34m\u001b[0m\n\u001b[0;32m----> 1\u001b[0;31m \u001b[0mcluster\u001b[0m \u001b[0;34m=\u001b[0m \u001b[0mgateway\u001b[0m\u001b[0;34m.\u001b[0m\u001b[0mnew_cluster\u001b[0m\u001b[0;34m(\u001b[0m\u001b[0;34m)\u001b[0m\u001b[0;34m\u001b[0m\u001b[0;34m\u001b[0m\u001b[0m\n\u001b[0m",
      "\u001b[0;32m~/devel/src/mguidon/dask-gateway/.venv/lib/python3.8/site-packages/dask_gateway/client.py\u001b[0m in \u001b[0;36mnew_cluster\u001b[0;34m(self, cluster_options, shutdown_on_close, **kwargs)\u001b[0m\n",
      "\u001b[0;32m~/devel/src/mguidon/dask-gateway/.venv/lib/python3.8/site-packages/dask_gateway/client.py\u001b[0m in \u001b[0;36m__init__\u001b[0;34m(self, address, proxy_address, public_address, auth, cluster_options, shutdown_on_close, asynchronous, loop, **kwargs)\u001b[0m\n",
      "\u001b[0;32m~/devel/src/mguidon/dask-gateway/.venv/lib/python3.8/site-packages/dask_gateway/client.py\u001b[0m in \u001b[0;36m_init_internal\u001b[0;34m(self, address, proxy_address, public_address, auth, cluster_options, cluster_kwargs, shutdown_on_close, asynchronous, loop, name)\u001b[0m\n",
      "\u001b[0;32m~/devel/src/mguidon/dask-gateway/.venv/lib/python3.8/site-packages/dask_gateway/client.py\u001b[0m in \u001b[0;36msync\u001b[0;34m(self, func, *args, **kwargs)\u001b[0m\n",
      "\u001b[0;32m~/.pyenv/versions/3.8.10/lib/python3.8/concurrent/futures/_base.py\u001b[0m in \u001b[0;36mresult\u001b[0;34m(self, timeout)\u001b[0m\n\u001b[1;32m    442\u001b[0m                     \u001b[0;32mraise\u001b[0m \u001b[0mCancelledError\u001b[0m\u001b[0;34m(\u001b[0m\u001b[0;34m)\u001b[0m\u001b[0;34m\u001b[0m\u001b[0;34m\u001b[0m\u001b[0m\n\u001b[1;32m    443\u001b[0m                 \u001b[0;32melif\u001b[0m \u001b[0mself\u001b[0m\u001b[0;34m.\u001b[0m\u001b[0m_state\u001b[0m \u001b[0;34m==\u001b[0m \u001b[0mFINISHED\u001b[0m\u001b[0;34m:\u001b[0m\u001b[0;34m\u001b[0m\u001b[0;34m\u001b[0m\u001b[0m\n\u001b[0;32m--> 444\u001b[0;31m                     \u001b[0;32mreturn\u001b[0m \u001b[0mself\u001b[0m\u001b[0;34m.\u001b[0m\u001b[0m__get_result\u001b[0m\u001b[0;34m(\u001b[0m\u001b[0;34m)\u001b[0m\u001b[0;34m\u001b[0m\u001b[0;34m\u001b[0m\u001b[0m\n\u001b[0m\u001b[1;32m    445\u001b[0m                 \u001b[0;32melse\u001b[0m\u001b[0;34m:\u001b[0m\u001b[0;34m\u001b[0m\u001b[0;34m\u001b[0m\u001b[0m\n\u001b[1;32m    446\u001b[0m                     \u001b[0;32mraise\u001b[0m \u001b[0mTimeoutError\u001b[0m\u001b[0;34m(\u001b[0m\u001b[0;34m)\u001b[0m\u001b[0;34m\u001b[0m\u001b[0;34m\u001b[0m\u001b[0m\n",
      "\u001b[0;32m~/.pyenv/versions/3.8.10/lib/python3.8/concurrent/futures/_base.py\u001b[0m in \u001b[0;36m__get_result\u001b[0;34m(self)\u001b[0m\n\u001b[1;32m    387\u001b[0m         \u001b[0;32mif\u001b[0m \u001b[0mself\u001b[0m\u001b[0;34m.\u001b[0m\u001b[0m_exception\u001b[0m\u001b[0;34m:\u001b[0m\u001b[0;34m\u001b[0m\u001b[0;34m\u001b[0m\u001b[0m\n\u001b[1;32m    388\u001b[0m             \u001b[0;32mtry\u001b[0m\u001b[0;34m:\u001b[0m\u001b[0;34m\u001b[0m\u001b[0;34m\u001b[0m\u001b[0m\n\u001b[0;32m--> 389\u001b[0;31m                 \u001b[0;32mraise\u001b[0m \u001b[0mself\u001b[0m\u001b[0;34m.\u001b[0m\u001b[0m_exception\u001b[0m\u001b[0;34m\u001b[0m\u001b[0;34m\u001b[0m\u001b[0m\n\u001b[0m\u001b[1;32m    390\u001b[0m             \u001b[0;32mfinally\u001b[0m\u001b[0;34m:\u001b[0m\u001b[0;34m\u001b[0m\u001b[0;34m\u001b[0m\u001b[0m\n\u001b[1;32m    391\u001b[0m                 \u001b[0;31m# Break a reference cycle with the exception in self._exception\u001b[0m\u001b[0;34m\u001b[0m\u001b[0;34m\u001b[0m\u001b[0;34m\u001b[0m\u001b[0m\n",
      "\u001b[0;32m~/devel/src/mguidon/dask-gateway/.venv/lib/python3.8/site-packages/dask_gateway/client.py\u001b[0m in \u001b[0;36m_start_internal\u001b[0;34m(self)\u001b[0m\n",
      "\u001b[0;32m~/devel/src/mguidon/dask-gateway/.venv/lib/python3.8/site-packages/dask_gateway/client.py\u001b[0m in \u001b[0;36m_start_async\u001b[0;34m(self)\u001b[0m\n",
      "\u001b[0;32m~/devel/src/mguidon/dask-gateway/.venv/lib/python3.8/site-packages/dask_gateway/client.py\u001b[0m in \u001b[0;36m_wait_for_start\u001b[0;34m(self, cluster_name)\u001b[0m\n",
      "\u001b[0;32m~/devel/src/mguidon/dask-gateway/.venv/lib/python3.8/site-packages/dask_gateway/client.py\u001b[0m in \u001b[0;36m_cluster_report\u001b[0;34m(self, cluster_name, wait)\u001b[0m\n",
      "\u001b[0;32m~/devel/src/mguidon/dask-gateway/.venv/lib/python3.8/site-packages/dask_gateway/client.py\u001b[0m in \u001b[0;36m_request\u001b[0;34m(self, method, url, json)\u001b[0m\n",
      "\u001b[0;32m~/devel/src/mguidon/dask-gateway/.venv/lib/python3.8/site-packages/aiohttp/client.py\u001b[0m in \u001b[0;36m_request\u001b[0;34m(self, method, str_or_url, params, data, json, cookies, headers, skip_auto_headers, auth, allow_redirects, max_redirects, compress, chunked, expect100, raise_for_status, read_until_eof, proxy, proxy_auth, timeout, verify_ssl, fingerprint, ssl_context, ssl, proxy_headers, trace_request_ctx, read_bufsize)\u001b[0m\n",
      "\u001b[0;32m~/devel/src/mguidon/dask-gateway/.venv/lib/python3.8/site-packages/aiohttp/client_reqrep.py\u001b[0m in \u001b[0;36mstart\u001b[0;34m(self, connection)\u001b[0m\n",
      "\u001b[0;32m~/devel/src/mguidon/dask-gateway/.venv/lib/python3.8/site-packages/aiohttp/streams.py\u001b[0m in \u001b[0;36mread\u001b[0;34m(self)\u001b[0m\n",
      "\u001b[0;31mServerDisconnectedError\u001b[0m: Server disconnected"
     ]
    }
   ],
   "source": [
    "cluster = gateway.new_cluster()"
   ]
  },
  {
   "cell_type": "code",
   "execution_count": null,
   "id": "36181bf0",
   "metadata": {},
   "outputs": [],
   "source": [
    "cluster.scale(1)\n",
    "cluster"
   ]
  },
  {
   "cell_type": "code",
   "execution_count": null,
   "id": "96c9900f",
   "metadata": {},
   "outputs": [],
   "source": []
  },
  {
   "cell_type": "code",
   "execution_count": null,
   "id": "dcae0248",
   "metadata": {},
   "outputs": [],
   "source": []
  },
  {
   "cell_type": "code",
   "execution_count": null,
   "id": "fdd60fd2",
   "metadata": {},
   "outputs": [],
   "source": [
    "cluster"
   ]
  },
  {
   "cell_type": "code",
   "execution_count": null,
   "id": "d761e4fb",
   "metadata": {},
   "outputs": [],
   "source": []
  }
 ],
 "metadata": {
  "kernelspec": {
   "display_name": "Python 3 (ipykernel)",
   "language": "python",
   "name": "python3"
  },
  "language_info": {
   "codemirror_mode": {
    "name": "ipython",
    "version": 3
   },
   "file_extension": ".py",
   "mimetype": "text/x-python",
   "name": "python",
   "nbconvert_exporter": "python",
   "pygments_lexer": "ipython3",
   "version": "3.8.10"
  }
 },
 "nbformat": 4,
 "nbformat_minor": 5
}
