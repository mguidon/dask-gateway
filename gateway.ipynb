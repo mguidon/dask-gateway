{
 "cells": [
  {
   "cell_type": "code",
   "execution_count": 65,
   "id": "36181bf0",
   "metadata": {},
   "outputs": [],
   "source": [
    "from dask_gateway import Gateway, BasicAuth"
   ]
  },
  {
   "cell_type": "code",
   "execution_count": 66,
   "id": "96c9900f",
   "metadata": {},
   "outputs": [],
   "source": [
    "auth = BasicAuth(username=None, password=\"asdf\")\n",
    "gateway = Gateway(address=\"http://172.16.8.64:8001\", auth=auth)"
   ]
  },
  {
   "cell_type": "code",
   "execution_count": null,
   "id": "56e79673",
   "metadata": {},
   "outputs": [],
   "source": [
    "\n"
   ]
  },
  {
   "cell_type": "code",
   "execution_count": 67,
   "id": "52ca2fc8",
   "metadata": {},
   "outputs": [
    {
     "data": {
      "text/html": [
       "<div style='background-color: #f2f2f2; display: inline-block; padding: 10px; border: 1px solid #999999;'>\n",
       "  <h3>GatewayCluster</h3>\n",
       "  <ul>\n",
       "    <li><b>Name: </b>4ecfc981fdd94b2597f09727087de18d\n",
       "    <li><b>Dashboard: </b><a href='http://172.16.8.64:8001/clusters/4ecfc981fdd94b2597f09727087de18d/status' target='_blank'>http://172.16.8.64:8001/clusters/4ecfc981fdd94b2597f09727087de18d/status</a>\n",
       "  </ul>\n",
       "</div>\n"
      ],
      "text/plain": [
       "GatewayCluster<4ecfc981fdd94b2597f09727087de18d, status=running>"
      ]
     },
     "metadata": {},
     "output_type": "display_data"
    }
   ],
   "source": [
    "cluster = gateway.new_cluster()\n",
    "cluster"
   ]
  },
  {
   "cell_type": "code",
   "execution_count": 68,
   "id": "dcae0248",
   "metadata": {},
   "outputs": [],
   "source": [
    "cluster.scale(1)"
   ]
  },
  {
   "cell_type": "code",
   "execution_count": 69,
   "id": "fdd60fd2",
   "metadata": {},
   "outputs": [
    {
     "data": {
      "text/html": [
       "<div style='background-color: #f2f2f2; display: inline-block; padding: 10px; border: 1px solid #999999;'>\n",
       "  <h3>GatewayCluster</h3>\n",
       "  <ul>\n",
       "    <li><b>Name: </b>4ecfc981fdd94b2597f09727087de18d\n",
       "    <li><b>Dashboard: </b><a href='http://172.16.8.64:8001/clusters/4ecfc981fdd94b2597f09727087de18d/status' target='_blank'>http://172.16.8.64:8001/clusters/4ecfc981fdd94b2597f09727087de18d/status</a>\n",
       "  </ul>\n",
       "</div>\n"
      ],
      "text/plain": [
       "GatewayCluster<4ecfc981fdd94b2597f09727087de18d, status=running>"
      ]
     },
     "metadata": {},
     "output_type": "display_data"
    }
   ],
   "source": [
    "cluster"
   ]
  },
  {
   "cell_type": "code",
   "execution_count": null,
   "id": "d761e4fb",
   "metadata": {},
   "outputs": [],
   "source": []
  }
 ],
 "metadata": {
  "kernelspec": {
   "display_name": "Python 3 (ipykernel)",
   "language": "python",
   "name": "python3"
  },
  "language_info": {
   "codemirror_mode": {
    "name": "ipython",
    "version": 3
   },
   "file_extension": ".py",
   "mimetype": "text/x-python",
   "name": "python",
   "nbconvert_exporter": "python",
   "pygments_lexer": "ipython3",
   "version": "3.8.10"
  }
 },
 "nbformat": 4,
 "nbformat_minor": 5
}
