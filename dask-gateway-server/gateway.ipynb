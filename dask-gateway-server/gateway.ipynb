{
 "cells": [
  {
   "cell_type": "code",
   "execution_count": 1,
   "id": "f2181aab",
   "metadata": {},
   "outputs": [],
   "source": [
    "from dask_gateway import Gateway, BasicAuth\n",
    "auth = BasicAuth(username=None, password=\"asdf\")\n",
    "gateway = Gateway(address=\"http://172.16.8.64:8000\", auth=auth)"
   ]
  },
  {
   "cell_type": "code",
   "execution_count": 2,
   "id": "2035624d",
   "metadata": {},
   "outputs": [],
   "source": [
    "cluster = gateway.new_cluster()"
   ]
  },
  {
   "cell_type": "code",
   "execution_count": 5,
   "id": "36181bf0",
   "metadata": {},
   "outputs": [
    {
     "data": {
      "text/html": [
       "<div style='background-color: #f2f2f2; display: inline-block; padding: 10px; border: 1px solid #999999;'>\n",
       "  <h3>GatewayCluster</h3>\n",
       "  <ul>\n",
       "    <li><b>Name: </b>ff8a1d34a6c348d2bc1b182e1884634d\n",
       "    <li><b>Dashboard: </b><a href='http://172.16.8.64:8000/clusters/ff8a1d34a6c348d2bc1b182e1884634d/status' target='_blank'>http://172.16.8.64:8000/clusters/ff8a1d34a6c348d2bc1b182e1884634d/status</a>\n",
       "  </ul>\n",
       "</div>\n"
      ],
      "text/plain": [
       "GatewayCluster<ff8a1d34a6c348d2bc1b182e1884634d, status=running>"
      ]
     },
     "metadata": {},
     "output_type": "display_data"
    }
   ],
   "source": [
    "cluster.scale(1)\n",
    "cluster"
   ]
  },
  {
   "cell_type": "code",
   "execution_count": 4,
   "id": "96c9900f",
   "metadata": {},
   "outputs": [],
   "source": [
    "client = cluster.get_client()"
   ]
  },
  {
   "cell_type": "code",
   "execution_count": null,
   "id": "dcae0248",
   "metadata": {},
   "outputs": [],
   "source": []
  },
  {
   "cell_type": "code",
   "execution_count": null,
   "id": "fdd60fd2",
   "metadata": {},
   "outputs": [],
   "source": []
  },
  {
   "cell_type": "code",
   "execution_count": null,
   "id": "d761e4fb",
   "metadata": {},
   "outputs": [],
   "source": []
  }
 ],
 "metadata": {
  "kernelspec": {
   "display_name": "Python 3 (ipykernel)",
   "language": "python",
   "name": "python3"
  },
  "language_info": {
   "codemirror_mode": {
    "name": "ipython",
    "version": 3
   },
   "file_extension": ".py",
   "mimetype": "text/x-python",
   "name": "python",
   "nbconvert_exporter": "python",
   "pygments_lexer": "ipython3",
   "version": "3.8.10"
  }
 },
 "nbformat": 4,
 "nbformat_minor": 5
}
